{
 "cells": [
  {
   "cell_type": "markdown",
   "id": "c58f4010",
   "metadata": {},
   "source": [
    "# Aircraft maintainance problem - EA demo"
   ]
  },
  {
   "cell_type": "code",
   "execution_count": null,
   "id": "921af83f",
   "metadata": {},
   "outputs": [],
   "source": [
    "import pandas as pd\n",
    "import numpy as np\n",
    "import datetime\n",
    "import random\n",
    "import sys\n",
    "import os"
   ]
  },
  {
   "cell_type": "markdown",
   "id": "01e79443",
   "metadata": {},
   "source": [
    "## PlaneModel defines a set of useful classes"
   ]
  },
  {
   "cell_type": "code",
   "execution_count": null,
   "id": "98cdb8de",
   "metadata": {},
   "outputs": [],
   "source": [
    "from  PlaneModel import job,aircraft,staff,problem"
   ]
  },
  {
   "cell_type": "markdown",
   "id": "4092937d",
   "metadata": {},
   "source": [
    "## Load Problem instance from Excel\n",
    "\n",
    "Check that cells in the spreadsheet are a 'general' format. Numbers formatted as strings can cause issues"
   ]
  },
  {
   "cell_type": "code",
   "execution_count": null,
   "id": "70c3767d",
   "metadata": {},
   "outputs": [],
   "source": [
    "file = './Test-Data/Example1.xlsx'\n",
    "planes = pd.read_excel(file,  sheet_name = 0)\n",
    "work_packages = pd.read_excel(file, sheet_name = 1, index_col = 0)\n",
    "people = pd.read_excel(file,  sheet_name = 2, index_col = 0)"
   ]
  },
  {
   "cell_type": "code",
   "execution_count": null,
   "id": "7d85a6c0",
   "metadata": {},
   "outputs": [],
   "source": [
    "planes"
   ]
  },
  {
   "cell_type": "markdown",
   "id": "bf46e4b4",
   "metadata": {},
   "source": [
    "## Populate Model\n",
    "\n",
    "The data from Pandas (itself from Excel) is turned into a set of objects (as defined in the classes above)\n",
    "The variable instance is an instance of Problem and contains collections of Staff, Aircraft and Jobs\n"
   ]
  },
  {
   "cell_type": "code",
   "execution_count": null,
   "id": "e84c4720",
   "metadata": {},
   "outputs": [],
   "source": [
    "instance = problem(people,planes,work_packages)"
   ]
  },
  {
   "cell_type": "markdown",
   "id": "927f568b",
   "metadata": {},
   "source": [
    "## Generate random genome"
   ]
  },
  {
   "cell_type": "code",
   "execution_count": null,
   "id": "2a4f0fda",
   "metadata": {},
   "outputs": [],
   "source": [
    "\n",
    "def randSol():\n",
    "    instance.reset()\n",
    "    availStaff = instance.getListStaff()\n",
    "    \n",
    "    allJobs = instance.getListJobs()\n",
    "    sol = []\n",
    "    for j in allJobs:\n",
    "        theJob = instance.jobs[j]\n",
    "        c=1\n",
    "        for c in range(len(theJob.notAllocated)):\n",
    "            \n",
    "            rStaff = random.choice(availStaff)\n",
    "            while not theJob.check(instance.staff[rStaff]):\n",
    "                rStaff = random.choice(availStaff)\n",
    "                \n",
    "            code= j+\":\"+str(c)\n",
    "            t = [rStaff,code]\n",
    "            sol.append(t)\n",
    "            c=c+1\n",
    "    random.shuffle(sol)\n",
    "    return sol"
   ]
  },
  {
   "cell_type": "markdown",
   "id": "9370f563",
   "metadata": {},
   "source": [
    "## Evaluate Genome"
   ]
  },
  {
   "cell_type": "code",
   "execution_count": null,
   "id": "b19001de",
   "metadata": {},
   "outputs": [],
   "source": [
    "def evaluate(sol):\n",
    "    instance.reset()\n",
    "    for g in sol:\n",
    "        j=g[1].split(\":\")[0]\n",
    "        instance.allocate(instance.staff[g[0]],instance.jobs[j])\n",
    "\n",
    "    instance.validate()\n",
    "    unalloc =instance.getUnallocated()\n",
    "    over = 0\n",
    "    countOver =0\n",
    "    for ac in instance.aircraft:\n",
    "        airc = instance.aircraft[ac]\n",
    "        o = airc.over()\n",
    "        over = over +o\n",
    "        if o >0 :\n",
    "            countOver = countOver + 1\n",
    "        \n",
    "    return (unalloc + over),unalloc,countOver,over\n"
   ]
  },
  {
   "cell_type": "markdown",
   "id": "48667f85",
   "metadata": {},
   "source": [
    "## Mutation function"
   ]
  },
  {
   "cell_type": "code",
   "execution_count": null,
   "id": "9b53f704",
   "metadata": {},
   "outputs": [],
   "source": [
    "def mutate(genome):\n",
    "    \n",
    "    ch = random.randint(0,3)\n",
    "    if ch ==1:\n",
    "        n = random.randint(0,len(genome)-1)\n",
    "        availStaff = instance.getListStaff()\n",
    "        \n",
    "        j =  genome[n][1].split(\":\")[0]\n",
    "        theJob = instance.jobs[j]\n",
    "        rStaff = random.choice(availStaff)\n",
    "        while not theJob.check(instance.staff[rStaff]):\n",
    "                rStaff = random.choice(availStaff)\n",
    "        genome[n][0]= rStaff\n",
    "        \n",
    "\n",
    "    if ch==2:\n",
    "        x = random.randint(0,len(genome)-1)\n",
    "        y = random.randint(0,len(genome)-1)\n",
    "        t = genome[x]\n",
    "        genome.pop(x)\n",
    "        genome.insert(y,t)\n",
    "    if ch == 3:\n",
    "        genome = timeMutate(genome)\n",
    "    return genome\n",
    "\n",
    "\n",
    "def timeMutate(genome):\n",
    "    tl = datetime.timedelta(minutes=0)\n",
    "    gene = None\n",
    "    \n",
    "    for c  in range(10):        \n",
    "        x = random.randint(0,len(genome)-1)        \n",
    "        g = genome[x]\n",
    "        jb = g[1].split(':')[0]\n",
    "        if instance.jobs[jb].duration > tl:\n",
    "            tl = instance.jobs[jb].duration\n",
    "            gene = x\n",
    "    \n",
    "    t = genome[gene]\n",
    "    genome.pop(gene)\n",
    "    genome.insert(0,t)\n",
    "    return genome\n",
    "\n"
   ]
  },
  {
   "cell_type": "markdown",
   "id": "bf788898",
   "metadata": {},
   "source": [
    "## Copy genome\n",
    "\n",
    "This is a deep copy"
   ]
  },
  {
   "cell_type": "code",
   "execution_count": null,
   "id": "33019bbc",
   "metadata": {},
   "outputs": [],
   "source": [
    "def copyG(genome):\n",
    "    n = []\n",
    "    for g in genome:\n",
    "        n.append(g.copy())\n",
    "    \n",
    "    return n"
   ]
  },
  {
   "cell_type": "markdown",
   "id": "092add48",
   "metadata": {},
   "source": [
    "# Simple EA\n",
    "\n",
    "## Crossover (XO) function"
   ]
  },
  {
   "cell_type": "code",
   "execution_count": null,
   "id": "07e63bbf",
   "metadata": {},
   "outputs": [],
   "source": [
    "def contains(genome, jCode):\n",
    "    for j in genome:\n",
    "        if j[1] == jCode:\n",
    "            return True\n",
    "    return False\n",
    "\n",
    "\n",
    "def xo(pA,pB):\n",
    "    if len(pA) != len(pB):\n",
    "        print(\"Parent len mismatch\")\n",
    "  \n",
    "    child = []\n",
    "    for c in  range(len(pA)):\n",
    "        if not contains(child,pA[c][1]):\n",
    "                child.append(pA[c].copy())\n",
    "        if not contains(child,pB[c][1]):\n",
    "                child.append(pB[c].copy())\n",
    "    \n",
    "    return child\n"
   ]
  },
  {
   "cell_type": "markdown",
   "id": "c0fbc225",
   "metadata": {},
   "source": [
    "# EA"
   ]
  },
  {
   "cell_type": "code",
   "execution_count": null,
   "id": "428a519a",
   "metadata": {},
   "outputs": [],
   "source": [
    "def tour(pop):\n",
    "    p1 = random.choice(pop)\n",
    "    p2 = random.choice(pop)\n",
    "    \n",
    "    if p1[0] < p2[0]:\n",
    "        return p1\n",
    "    else:\n",
    "        return p2\n",
    "        \n",
    "def rip(pop):\n",
    "    p1 = random.choice(pop)\n",
    "    p2 = random.choice(pop)\n",
    "    \n",
    "    if p1[0] >  p2[0]:\n",
    "        return p1\n",
    "    else:\n",
    "        return p2\n",
    "          \n",
    "    \n",
    "pop_size = 1500 \n",
    "budget = 100000\n",
    "\n",
    "best = None\n",
    "\n",
    "pop = []\n",
    "for c in range(0,pop_size):\n",
    "\n",
    "    i = randSol()\n",
    "    f= evaluate(i)[0]\n",
    "    p= (f,i)\n",
    "    pop.append(p)\n",
    "    if len(pop)==1:\n",
    "        best=p\n",
    "    \n",
    "    \n",
    "    if f < best[0]:\n",
    "        best=p\n",
    "        \n",
    "print(\"Init\")\n",
    "print(best[0])\n",
    "evals =0\n",
    "while (evals < budget):\n",
    "    evals = evals +1\n",
    "    if random.choice([True,False]):\n",
    "        parent = tour(pop)\n",
    "        ng = copyG(parent[1])\n",
    "    else:\n",
    "        ng = xo(tour(pop)[1],tour(pop)[1])\n",
    "        \n",
    "    mutate(ng)\n",
    "    nf = evaluate(ng)[0]\n",
    "    child = (nf,ng)\n",
    "\n",
    "    toGo = rip(pop)\n",
    "    if toGo[0] > child[0]:\n",
    "        pop.remove(toGo)\n",
    "        pop.append(child)\n",
    "        if child[0] < best[0]:\n",
    "            best = (child[0],copyG(child[1])) \n",
    "            instance.reset()\n",
    "            r = evaluate(best[1])\n",
    "            print(\"Evals: \" + str(evals))\n",
    "            print(\"Improved (\" +str(r[0])+\") Missing staff = \"+ str(r[1]) + \" Late = \"+ str(r[2]) + \" Late mins = \" + str(r[3]))\n",
    "              \n",
    "print(\"Done :\" +str(best[0]))\n"
   ]
  },
  {
   "cell_type": "code",
   "execution_count": null,
   "id": "6d413258",
   "metadata": {
    "scrolled": false
   },
   "outputs": [],
   "source": [
    "print(\"Final Result:\")\n",
    "instance.reset()\n",
    "r = evaluate(best[1])\n",
    "print(\"Fitness = \" +str(r[0])+\" Missing staff = \"+ str(r[1]) + \" Late Departures= \"+ str(r[2]) + \" Late mins = \" + str(r[3]))\n",
    "print(\"\\nPlan:\\n\\n\"+str(instance))\n",
    "\n",
    "              "
   ]
  },
  {
   "cell_type": "markdown",
   "id": "7e016831",
   "metadata": {},
   "source": [
    "### Fine-tuning the EA outputs"
   ]
  },
  {
   "cell_type": "code",
   "execution_count": null,
   "id": "b33ce681",
   "metadata": {},
   "outputs": [],
   "source": [
    "for run in range(10):\n",
    "    pop_size = 1500 \n",
    "    budget = 100000\n",
    "\n",
    "    best = None\n",
    "\n",
    "    pop = []\n",
    "    for c in range(pop_size):\n",
    "        i = randSol()\n",
    "        f = evaluate(i)[0]\n",
    "        p = (f, i)\n",
    "        pop.append(p)\n",
    "        if len(pop) == 1:\n",
    "            best = p\n",
    "        if f < best[0]:\n",
    "            best = p\n",
    "\n",
    "    print(f\"Run {run + 1} - Init\")\n",
    "    print(f\"Initial best: {best[0]}\")\n",
    "\n",
    "    evals = 0\n",
    "    fitness_All = []\n",
    "    while evals < budget:\n",
    "        evals += 1\n",
    "        if random.choice([True, False]):\n",
    "            parent = tour(pop)\n",
    "            ng = copyG(parent[1])\n",
    "        else:\n",
    "            ng = xo(tour(pop)[1], tour(pop)[1])\n",
    "        \n",
    "        mutate(ng)\n",
    "        nf = evaluate(ng)[0]\n",
    "        child = (nf, ng)\n",
    "\n",
    "        toGo = rip(pop)\n",
    "        if toGo[0] > child[0]:\n",
    "            pop.remove(toGo)\n",
    "            pop.append(child)\n",
    "            if child[0] < best[0]:\n",
    "                best = (child[0], copyG(child[1]))\n",
    "                instance.reset()\n",
    "                r = evaluate(best[1])\n",
    "                print(f\"Evals: {evals}\")\n",
    "                print(f\"Improved ({r[0]}) Missing staff = {r[1]} Late = {r[2]} Late mins = {r[3]}\")\n",
    "\n",
    "    fitness_All.append(best[0])\n",
    "    print(f\"Run {run + 1} - Done: {best[0]}\\n\")\n",
    "    \n",
    "    # compute the average of fitness values in the population for 10 iterations\n",
    "    avg_fitness = np.mean(fitness_All)\n",
    "    print(f\"Average fitness over 10 runs: {avg_fitness}\")"
   ]
  },
  {
   "cell_type": "code",
   "execution_count": null,
   "id": "00193503",
   "metadata": {},
   "outputs": [],
   "source": []
  }
 ],
 "metadata": {
  "kernelspec": {
   "display_name": "ea",
   "language": "python",
   "name": "python3"
  },
  "language_info": {
   "codemirror_mode": {
    "name": "ipython",
    "version": 3
   },
   "file_extension": ".py",
   "mimetype": "text/x-python",
   "name": "python",
   "nbconvert_exporter": "python",
   "pygments_lexer": "ipython3",
   "version": "3.10.16"
  }
 },
 "nbformat": 4,
 "nbformat_minor": 5
}
